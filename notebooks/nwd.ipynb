{
 "cells": [
  {
   "cell_type": "markdown",
   "metadata": {},
   "source": [
    "# Największy wspólny dzielnik\n",
    " * * *\n",
    " \n",
    " ## Algorytm z odejmowaniem\n",
    " ### wersja rekurencyjna"
   ]
  },
  {
   "cell_type": "code",
   "execution_count": 41,
   "metadata": {
    "collapsed": false
   },
   "outputs": [
    {
     "name": "stdout",
     "output_type": "stream",
     "text": [
      "nwd\n",
      "['Passed', 'Passed', 'Passed', 'Passed', 'Passed', 'Failed']\n"
     ]
    }
   ],
   "source": [
    "# p = nwd(a,b) \n",
    "# p|b and p|a  -> p|(a -b)\n",
    "\n",
    "def nwd(a, b):\n",
    "    (a,b) = (a,b) if (a>b) else (b,a)\n",
    "    if b == 0:\n",
    "        return a\n",
    "    return nwd(a-b, b)\n",
    "\n",
    "print('nwd')\n",
    "res1 = [ \"Passed\" if nwd(a,b) == res else \"Failed\" for ((a,b),res) in zip(tst,ref)]\n",
    "print(res1)\n",
    "#verify(res1, ref)\n",
    "\n"
   ]
  },
  {
   "cell_type": "markdown",
   "metadata": {},
   "source": [
    "### wersja iteracyjna\n",
    "Ćwiczenie: \n",
    "\n",
    "Zaimplementuj algortym w wersji iteracyjnej"
   ]
  },
  {
   "cell_type": "code",
   "execution_count": 8,
   "metadata": {
    "collapsed": true
   },
   "outputs": [],
   "source": [
    "# todo: \n",
    "\n",
    "#sprawdź działanie algorytmu rekurencyjny z odejmowaniem na tych liczbach\n",
    "# tst_d= ( (1346269,1),(14930352,1))\n",
    "\n",
    "# zaimplementuj i zweryfikuj algortym iteracyjny\n"
   ]
  },
  {
   "cell_type": "markdown",
   "metadata": {},
   "source": [
    "## Algorytm Euklidesa\n",
    "\n",
    "### Wersja rekurencyjna\n"
   ]
  },
  {
   "cell_type": "code",
   "execution_count": 1,
   "metadata": {
    "collapsed": true
   },
   "outputs": [],
   "source": [
    "# p = nwd(a,b) \n",
    "# x = b mod a\n",
    "# b = x + a*k  (k is integer)\n",
    "# p|b and p|a  -> p|x \n",
    "\n",
    "def nwd_euklides(a,b):\n",
    "    if a == 0:\n",
    "        return b\n",
    "    return nwd_euklides(b%a, a)\n"
   ]
  },
  {
   "cell_type": "markdown",
   "metadata": {},
   "source": [
    "### Wersja iteracyjna\n",
    "\n",
    "#### Ćwiczenie\n",
    "\n",
    "Zaimplementuj wersję iteracyjną algorytmu Euklidesa"
   ]
  },
  {
   "cell_type": "code",
   "execution_count": 40,
   "metadata": {
    "collapsed": false
   },
   "outputs": [
    {
     "name": "stdout",
     "output_type": "stream",
     "text": [
      "4\n",
      "\n",
      "2\n",
      "\n",
      "10\n",
      "\n",
      "27\n",
      "\n",
      "105\n",
      "\n",
      "81\n",
      "\n",
      "9\n",
      "\n",
      "2    4\n",
      "10    1000\n",
      "27    64\n",
      "105    15\n",
      "81    42\n",
      "9    3\n"
     ]
    }
   ],
   "source": [
    "tst = ((2,4) , (10, 1000), (27, 64), (105, 15), (81, 42),  (9, 3))\n",
    "# expected results (reference)\n",
    "ref = [2,10, 1, 15, 3, 1]\n",
    "\n",
    "def verify(ans, ref):\n",
    "    if (ans == ref):\n",
    "        print(\"Passed\")\n",
    "    else:\n",
    "        print(\"failed\")\n",
    "\n",
    "print(tst[0][1])\n",
    "print()      \n",
    "\n",
    "for ((x,y),z) in zip(tst, ref):\n",
    "    print(x)\n",
    "    print()\n",
    "\n",
    "for x,y in tst:\n",
    "    print(x, \"  \", y)"
   ]
  },
  {
   "cell_type": "code",
   "execution_count": 43,
   "metadata": {
    "collapsed": false
   },
   "outputs": [
    {
     "name": "stdout",
     "output_type": "stream",
     "text": [
      "a:  2\n",
      "b:  4\n",
      "res:  2\n",
      "passed\n",
      "a:  10\n",
      "b:  1000\n",
      "res:  10\n",
      "passed\n",
      "a:  27\n",
      "b:  64\n",
      "res:  1\n",
      "passed\n",
      "a:  105\n",
      "b:  15\n",
      "res:  15\n",
      "passed\n",
      "a:  81\n",
      "b:  42\n",
      "res:  3\n",
      "passed\n",
      "nwd\n",
      "[2, 10, 1, 15, 3]\n",
      "Passed\n",
      "nwd Euklides\n",
      "[2, 10, 1, 15, 3]\n",
      "Passed\n",
      "referencja\n",
      "[2, 10, 1, 15, 3]\n"
     ]
    }
   ],
   "source": [
    "# testujemy funkcję: def nwd_euklides(a,b):\n",
    "\n",
    "# dane wejściowe i odpowiedzi\n",
    "tst = ((2,4) , (10, 1000), (27, 64), (105, 15), (81, 42))\n",
    "ref = [2,10, 1, 15, 3]\n",
    "\n",
    "# for x in moja_lista:\n",
    "    #...\n",
    "\n",
    "# test to lista par liczb do algorytmu nwd\n",
    "# reference to lista wyników (największych dzielników) dla par liczb z listy testowej\n",
    "def test_nwd(test, reference):\n",
    "    #res = []\n",
    "    #print(res)\n",
    "    for ((a,b), ref1) in zip(test, reference):\n",
    "        print(\"a: \", a)\n",
    "        print(\"b: \", b)\n",
    "        res = nwd_euklides(a,b)\n",
    "        print(\"res: \", res)\n",
    "    \n",
    "        if res == ref1:\n",
    "            print(\"passed\")\n",
    "        else:\n",
    "            print(\"failed\")\n",
    "\n",
    "test_nwd (tst, ref)\n",
    "\n",
    "\n",
    "print('nwd')\n",
    "res1 = [ nwd(a,b) for (a,b) in tst]\n",
    "print(res1)\n",
    "verify(res1, ref)\n",
    "\n",
    "print('nwd Euklides')\n",
    "res2 = [nwd_euklides(a,b) for (a,b) in tst]\n",
    "print(res2)\n",
    "verify(res2, ref)\n",
    "\n",
    "print('referencja')\n",
    "print(ref)\n",
    "\n"
   ]
  },
  {
   "cell_type": "code",
   "execution_count": 19,
   "metadata": {
    "collapsed": false
   },
   "outputs": [
    {
     "name": "stdout",
     "output_type": "stream",
     "text": [
      "False\n",
      "True\n",
      "False\n",
      "False\n",
      "False\n"
     ]
    }
   ],
   "source": [
    "x = [1,2]\n",
    "y = (2,3)\n",
    "z = (1,3)\n",
    "w = (1,2)\n",
    "u = [1,2]\n",
    "s = [1,2,3]\n",
    "\n",
    "# can't compare tuple and vector\n",
    "print(x == w)\n",
    "# can compare vector to vector item by item\n",
    "print(x == u)\n",
    "\n",
    "print(x == s)\n",
    "print(y == x)\n",
    "print(z == x)\n",
    "\n"
   ]
  },
  {
   "cell_type": "markdown",
   "metadata": {},
   "source": [
    "## Złożoność obliczeniowa\n",
    "* * *\n",
    "### Implementacja algorytmów ze zliczaniem wywołań"
   ]
  },
  {
   "cell_type": "code",
   "execution_count": 36,
   "metadata": {
    "collapsed": true
   },
   "outputs": [],
   "source": [
    "# counted version of the nwd algorithm\n",
    "# since everything is an object in python, functions can have attributes\n",
    "\n",
    "def nwd_c(a, b):\n",
    "    nwd_c.counter += 1\n",
    "    (a,b) = (a,b) if (a>b) else (b,a)\n",
    "    if b == 0:\n",
    "        return a\n",
    "    return nwd_c(a-b, b)\n",
    "nwd_c.counter = 0\n",
    "\n",
    "# counted version of the Euklides algorithm\n",
    "def nwd_euklides_c(a,b):\n",
    "    nwd_euklides_c.counter +=1\n",
    "    if a == 0:\n",
    "        return b\n",
    "    return nwd_euklides_c( b % a, a)\n",
    "\n",
    "nwd_euklides_c.counter=0\n"
   ]
  },
  {
   "cell_type": "code",
   "execution_count": 41,
   "metadata": {
    "collapsed": true
   },
   "outputs": [],
   "source": [
    "tst_c = ((377, 610 ),(832040, 1346269), (9227465, 14930352) , (610,1), (1000,1)  )\n",
    "tst_d= ( (1346269,1),(14930352,1))\n"
   ]
  },
  {
   "cell_type": "code",
   "execution_count": 48,
   "metadata": {
    "collapsed": false
   },
   "outputs": [
    {
     "name": "stdout",
     "output_type": "stream",
     "text": [
      "Algorytm z odejmowaniem\n",
      "Nwd (377, 610) = 1, iter = 15\n",
      "Nwd (832040, 1346269) = 1, iter = 31\n",
      "Nwd (9227465, 14930352) = 1, iter = 36\n",
      "Nwd (610, 1) = 1, iter = 611\n",
      "Nwd (1000, 1) = 1, iter = 1001\n",
      "\n",
      "Algorytm Euklidesa\n",
      "Nwd (377, 610) = 1, iter = 14\n",
      "Nwd (832040, 1346269) = 1, iter = 30\n",
      "Nwd (9227465, 14930352) = 1, iter = 35\n",
      "Nwd (610, 1) = 1, iter = 3\n",
      "Nwd (1000, 1) = 1, iter = 3\n",
      "Nwd (1346269, 1) = 1, iter = 3\n",
      "Nwd (14930352, 1) = 1, iter = 3\n"
     ]
    }
   ],
   "source": [
    "print('Algorytm z odejmowaniem')\n",
    "for (a,b) in tst_c:\n",
    "    nwd_c.counter =0\n",
    "    print(\"Nwd (%d, %d) = %d, iter = %d\" %( a, b, nwd_c(a,b), nwd_c.counter))\n",
    "\n",
    "print()\n",
    "print('Algorytm Euklidesa')\n",
    "for (a,b) in tst_c+tst_d:\n",
    "    nwd_euklides_c.counter =0\n",
    "    print(\"Nwd (%d, %d) = %d, iter = %d\" %( a, b, nwd_euklides_c(a,b), nwd_euklides_c.counter))\n",
    "    \n"
   ]
  },
  {
   "cell_type": "markdown",
   "metadata": {},
   "source": [
    "### Pytania\n",
    "\n",
    "Co możesz powiedzieć o wydajności algorytmu z odejmowaniem i Euklidesa?\n",
    "\n",
    "Jak czas wykonania algorytmów zależy od liczb wejściowych?\n",
    "\n",
    "\n"
   ]
  }
 ],
 "metadata": {
  "kernelspec": {
   "display_name": "Python 3",
   "language": "python",
   "name": "python3"
  },
  "language_info": {
   "codemirror_mode": {
    "name": "ipython",
    "version": 3
   },
   "file_extension": ".py",
   "mimetype": "text/x-python",
   "name": "python",
   "nbconvert_exporter": "python",
   "pygments_lexer": "ipython3",
   "version": "3.5.1"
  }
 },
 "nbformat": 4,
 "nbformat_minor": 4
}
