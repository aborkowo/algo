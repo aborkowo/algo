{
 "cells": [
  {
   "cell_type": "markdown",
   "metadata": {},
   "source": [
    "# Największy wspólny dzielnik\n",
    " * * *\n",
    " \n",
    " ## Algorytm z odejmowaniem\n",
    " ### wersja rekurencyjna"
   ]
  },
  {
   "cell_type": "code",
   "execution_count": 17,
   "metadata": {},
   "outputs": [],
   "source": [
    "# p = nwd(a,b) \n",
    "# p|b and p|a  -> p|(a -b)\n",
    "\n",
    "def nwd(a, b):\n",
    "    (a,b) = (a,b) if (a>b) else (b,a)\n",
    "    if b == 0:\n",
    "        return a\n",
    "    return nwd(a-b, b)\n",
    "\n",
    "\n",
    "    "
   ]
  },
  {
   "cell_type": "markdown",
   "metadata": {},
   "source": [
    "### wersja iteracyjna\n",
    "Ćwiczenie: \n",
    "\n",
    "Zaimplementuj algortym w wersji iteracyjnej"
   ]
  },
  {
   "cell_type": "code",
   "execution_count": 49,
   "metadata": {},
   "outputs": [],
   "source": [
    "# todo: \n",
    "\n",
    "#sprawdź działanie algorytmu rekurencyjny z odejmowaniem na tych liczbach\n",
    "# tst_d= ( (1346269,1),(14930352,1))\n",
    "\n",
    "# zaimplementuj i zweryfikuj algortym iteracyjny\n"
   ]
  },
  {
   "cell_type": "markdown",
   "metadata": {},
   "source": [
    "## Algorytm Euklidesa\n",
    "\n",
    "### Wersja rekurencyjna\n"
   ]
  },
  {
   "cell_type": "code",
   "execution_count": 27,
   "metadata": {},
   "outputs": [],
   "source": [
    "# p = nwd(a,b) \n",
    "# x = b mod a\n",
    "# b = x + a*k  (k is integer)\n",
    "# p|b and p|a  -> p|x \n",
    "\n",
    "def nwd_euklides(a,b):\n",
    "    if a == 0:\n",
    "        return b\n",
    "    return nwd_euklides(b%a, a)\n"
   ]
  },
  {
   "cell_type": "markdown",
   "metadata": {},
   "source": [
    "### Wersja iteracyjna\n",
    "\n",
    "#### Ćwiczenie\n",
    "\n",
    "Zaimplementuj wersję iteracyjną algorytmu Euklidesa"
   ]
  },
  {
   "cell_type": "code",
   "execution_count": 24,
   "metadata": {},
   "outputs": [],
   "source": [
    "tst = ((2,4) , (10, 1000), (27, 64), (105, 15), (81, 42))\n",
    "# expected results (reference)\n",
    "ref = (2,10, 1, 15, 3)"
   ]
  },
  {
   "cell_type": "code",
   "execution_count": 22,
   "metadata": {},
   "outputs": [
    {
     "name": "stdout",
     "output_type": "stream",
     "text": [
      "nwd\n",
      "[2, 10, 1, 15, 3]\n",
      "nwd Euklides\n",
      "[2, 10, 1, 15, 3]\n",
      "referencja\n",
      "(2, 10, 1, 15, 3)\n"
     ]
    }
   ],
   "source": [
    "print('nwd')\n",
    "res1 = [ nwd(a,b) for (a,b) in tst]\n",
    "print(res1)\n",
    "\n",
    "print('nwd Euklides')\n",
    "res2 = [nwd_euklides(a,b) for (a,b) in tst]\n",
    "print(res2)\n",
    "\n",
    "print('referencja')\n",
    "print(ref)"
   ]
  },
  {
   "cell_type": "markdown",
   "metadata": {},
   "source": [
    "## Złożoność obliczeniowa\n",
    "* * *\n",
    "### Implementacja algorytmów ze zliczaniem wywołań"
   ]
  },
  {
   "cell_type": "code",
   "execution_count": 36,
   "metadata": {},
   "outputs": [],
   "source": [
    "# counted version of the nwd algorithm\n",
    "# since everything is an object in python, functions can have attributes\n",
    "\n",
    "def nwd_c(a, b):\n",
    "    nwd_c.counter += 1\n",
    "    (a,b) = (a,b) if (a>b) else (b,a)\n",
    "    if b == 0:\n",
    "        return a\n",
    "    return nwd_c(a-b, b)\n",
    "nwd_c.counter = 0\n",
    "\n",
    "# counted version of the Euklides algorithm\n",
    "def nwd_euklides_c(a,b):\n",
    "    nwd_euklides_c.counter +=1\n",
    "    if a == 0:\n",
    "        return b\n",
    "    return nwd_euklides_c( b % a, a)\n",
    "\n",
    "nwd_euklides_c.counter=0\n"
   ]
  },
  {
   "cell_type": "code",
   "execution_count": 41,
   "metadata": {},
   "outputs": [],
   "source": [
    "tst_c = ((377, 610 ),(832040, 1346269), (9227465, 14930352) , (610,1), (1000,1)  )\n",
    "tst_d= ( (1346269,1),(14930352,1))\n"
   ]
  },
  {
   "cell_type": "code",
   "execution_count": 48,
   "metadata": {},
   "outputs": [
    {
     "name": "stdout",
     "output_type": "stream",
     "text": [
      "Algorytm z odejmowaniem\n",
      "Nwd (377, 610) = 1, iter = 15\n",
      "Nwd (832040, 1346269) = 1, iter = 31\n",
      "Nwd (9227465, 14930352) = 1, iter = 36\n",
      "Nwd (610, 1) = 1, iter = 611\n",
      "Nwd (1000, 1) = 1, iter = 1001\n",
      "\n",
      "Algorytm Euklidesa\n",
      "Nwd (377, 610) = 1, iter = 14\n",
      "Nwd (832040, 1346269) = 1, iter = 30\n",
      "Nwd (9227465, 14930352) = 1, iter = 35\n",
      "Nwd (610, 1) = 1, iter = 3\n",
      "Nwd (1000, 1) = 1, iter = 3\n",
      "Nwd (1346269, 1) = 1, iter = 3\n",
      "Nwd (14930352, 1) = 1, iter = 3\n"
     ]
    }
   ],
   "source": [
    "print('Algorytm z odejmowaniem')\n",
    "for (a,b) in tst_c:\n",
    "    nwd_c.counter =0\n",
    "    print(\"Nwd (%d, %d) = %d, iter = %d\" %( a, b, nwd_c(a,b), nwd_c.counter))\n",
    "\n",
    "print()\n",
    "print('Algorytm Euklidesa')\n",
    "for (a,b) in tst_c+tst_d:\n",
    "    nwd_euklides_c.counter =0\n",
    "    print(\"Nwd (%d, %d) = %d, iter = %d\" %( a, b, nwd_euklides_c(a,b), nwd_euklides_c.counter))\n",
    "    \n"
   ]
  },
  {
   "cell_type": "markdown",
   "metadata": {},
   "source": [
    "### Pytania\n",
    "\n",
    "Co możesz powiedzieć o wydajności algorytmu z odejmowaniem i Euklidesa?\n",
    "\n",
    "Jak czas wykonania algorytmów zależy od liczb wejściowych?\n",
    "\n",
    "\n"
   ]
  }
 ],
 "metadata": {
  "kernelspec": {
   "display_name": "Python 3",
   "language": "python",
   "name": "python3"
  },
  "language_info": {
   "codemirror_mode": {
    "name": "ipython",
    "version": 3
   },
   "file_extension": ".py",
   "mimetype": "text/x-python",
   "name": "python",
   "nbconvert_exporter": "python",
   "pygments_lexer": "ipython3",
   "version": "3.8.2"
  }
 },
 "nbformat": 4,
 "nbformat_minor": 4
}
