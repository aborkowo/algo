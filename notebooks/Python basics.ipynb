{
 "cells": [
  {
   "cell_type": "markdown",
   "metadata": {},
   "source": [
    "# Podstawy Pythona\n",
    "\n",
    "\n",
    "* * *\n",
    "## Ramowy plan zajęć\n",
    "- ## Struktury danych\n",
    "\n",
    "- ## Instrukcje warunkowe\n",
    "\n",
    "- ## Pętle\n",
    "\n",
    "- ## Funkcje\n",
    "\n",
    "- ## Odczyt / zapis pliku \n",
    "\n",
    "- ## Ćwiczenia i przykłady\n",
    "\n",
    "- ### Największy wspólny dzielnik\n",
    "\n",
    "- ### Sprawdzenie czy liczba jest pierwsza\n",
    "* * *"
   ]
  },
  {
   "cell_type": "markdown",
   "metadata": {},
   "source": [
    "## Przegląd wbudowanych typów danych w języku Python\n",
    "* * * \n",
    "### Lista (list)\n",
    "\n",
    "Koniecznie nawiasy kwadratowe: []\n",
    "Typ elementu dowolny\n",
    "Elementy można dodować usuwać z listy\n",
    "\n",
    "    my_list = [1, 2, 3]\n",
    "\n",
    "\n",
    "### Łańcuch znaków (string)\n",
    "\n",
    "    text = \"Hello \\n world\"\n",
    "    text1 = \"\"\"Można użyć znaku ' oraz znaku \" \n",
    "      w wielo-linijkowym komentarzu\"\"\"\n",
    "    text2 = r\" użycie znaku ucieczki: \\n\"\n",
    "    \n",
    "   \n",
    "\n",
    "### Krotka (tuple)\n",
    "Nie można zmienić wartości elementów ani dodawać, usuwać elementów (immutable).\n",
    "Jak lista.  Nawiasy () przy deklaracji.\n",
    "Bardziej wydajne (bo niezmienne).\n",
    "\n",
    "    my_tuple = (1,2,3)\n",
    "\n",
    "### Słownik (dict)\n",
    "\n",
    "Para klucz : wartość.\n",
    "\n",
    "\n",
    "    pol_eng = { 'dom' : 'home', 'pies': 'dog'}\n",
    "    pol_eng['dom']\n",
    "    \n",
    "\n",
    "### Zbiory (sets)\n",
    " \n",
    "Tak jak zbiory matematyczne: \n",
    "- mają unikalne elementy\n",
    "- można na nich wykonywać operacje: suma \"|\", część wspólna \"&\", itd. \n",
    "\n",
    "    fruits = set(['apple', 'pear', 'banana'])\n",
    "\n",
    "* * *"
   ]
  },
  {
   "cell_type": "code",
   "execution_count": 3,
   "metadata": {
    "collapsed": false,
    "scrolled": true
   },
   "outputs": [
    {
     "name": "stdout",
     "output_type": "stream",
     "text": [
      "lista 1:  [10, 100, 1000]\n",
      "listal 2:  ['a', 'b', 'c']\n",
      "lista 3:  []\n",
      "lista 4: ['python', 3.14]\n",
      "lista 5: [2, 2, 2, 2, 2, 2, 2, 2, 2, 2]\n"
     ]
    }
   ],
   "source": [
    "l1 = [10, 100, 1000] \n",
    "print('lista 1: ', l1)\n",
    "\n",
    "l2 = ['a', 'b', 'c']\n",
    "print('listal 2: ', l2)\n",
    "\n",
    "# lista pusta\n",
    "l3 = []\n",
    "print('lista 3: ', l3)\n",
    "\n",
    "# elementy listy różnych typów\n",
    "l4 = ['python', 3.14]\n",
    "print('lista 4:', l4)\n",
    "\n",
    "l5 = [2]*10\n",
    "print('lista 5:', l5)\n",
    "\n"
   ]
  },
  {
   "cell_type": "markdown",
   "metadata": {},
   "source": [
    "## Dostęp do elementów listy\n",
    "\n",
    "\"zero based\" - pierwszy element listy ma indeks zero\n",
    "\n",
    "Indeksy ujemne - element liczony od końca tablicy\n",
    "\n",
    "Co jeśli |indeks| > ilość elementów w liście\n",
    "\n"
   ]
  },
  {
   "cell_type": "code",
   "execution_count": null,
   "metadata": {
    "collapsed": false
   },
   "outputs": [],
   "source": [
    "x = l1[0]\n",
    "print('x =', x)\n",
    "\n",
    "y = l2[2]\n",
    "print('y =', y)\n",
    "\n",
    "z = l1[-1]\n",
    "print('z =', z)\n",
    "\n",
    "l1.append('nowy element')\n",
    "print(l1)\n",
    "l1.remove(10)"
   ]
  },
  {
   "cell_type": "markdown",
   "metadata": {},
   "source": [
    "## Wyrażenia listowe\n",
    "\n",
    "Z j. angielskiego: list comprehensions"
   ]
  },
  {
   "cell_type": "code",
   "execution_count": null,
   "metadata": {
    "collapsed": true
   },
   "outputs": [],
   "source": [
    "## https://python101.readthedocs.io/pl/latest/podstawy/pythonizmy.html#wyrazenia-listowe\n",
    "\n",
    "# lista kwadratów liczb od 0 do 9\n",
    "[x**2 for x in range(10)]\n",
    "\n",
    "# lista dwuwymiarowa [20,40] o wartościach a\n",
    "a = int(input(\"Podaj liczbę całkowtią: \"))\n",
    "[[a for y in range(2)] for x in range(5)]"
   ]
  },
  {
   "cell_type": "markdown",
   "metadata": {},
   "source": [
    "## Funkcje\n",
    "\n",
    "- Kod piszemy raz, używamy wielokrotnie\n",
    "- wjeście / wyjście funkcji\n",
    "- return - wyjście z fukncji\n",
    "- pamiętać o wcięciach\n"
   ]
  },
  {
   "cell_type": "code",
   "execution_count": 1,
   "metadata": {
    "collapsed": false
   },
   "outputs": [
    {
     "name": "stdout",
     "output_type": "stream",
     "text": [
      "Cześć Julia\n",
      "Cześć John\n"
     ]
    }
   ],
   "source": [
    "def hello(name):\n",
    "    print ('Cześć',name)\n",
    "    \n",
    "\n",
    "hello(\"Julia\")\n",
    "hello(\"John\")"
   ]
  },
  {
   "cell_type": "markdown",
   "metadata": {},
   "source": [
    "## Pętle\n",
    "\n",
    "Instrukcja \"for\".\n",
    "\n",
    "Generator \"range\". \n",
    "\n"
   ]
  },
  {
   "cell_type": "code",
   "execution_count": 5,
   "metadata": {
    "collapsed": false
   },
   "outputs": [
    {
     "name": "stdout",
     "output_type": "stream",
     "text": [
      "0\n",
      "1\n",
      "4\n",
      "9\n",
      "16\n",
      "Iteracja po elementach listy\n",
      "10\n",
      "100\n",
      "1000\n",
      "0 : a\n",
      "1 : b\n"
     ]
    }
   ],
   "source": [
    "# użycie range do ustalenia zakresu iteracji\n",
    "for i in range(5):\n",
    "    print(i**2)\n",
    "\n",
    "print('Iteracja po elementach listy')\n",
    "for l in l1:\n",
    "    print(l)\n",
    "\n",
    "#iteracja z indeksem do elementu    \n",
    "for num, letter in enumerate(l2):\n",
    "    print (num,':', letter)\n",
    "    if num ==1: break"
   ]
  },
  {
   "cell_type": "markdown",
   "metadata": {},
   "source": [
    "## Instrukcje warunkowe\n",
    "\n",
    "if, elif, else\n",
    "\n"
   ]
  },
  {
   "cell_type": "code",
   "execution_count": 7,
   "metadata": {
    "collapsed": false
   },
   "outputs": [
    {
     "name": "stdout",
     "output_type": "stream",
     "text": [
      "10  jest dodatnie\n"
     ]
    }
   ],
   "source": [
    "x = 10\n",
    "if (x>0):print(x, ' jest dodatnie')\n",
    "elif (x == 0): \n",
    "    print(x, 'jest zero')\n",
    "else:\n",
    "    print (x, 'jest ujemne')\n",
    "    \n"
   ]
  },
  {
   "cell_type": "markdown",
   "metadata": {},
   "source": [
    "## Przykład\n",
    "\n",
    "Napisz funkcję wyliczająca długość przeciwprostokątnej"
   ]
  },
  {
   "cell_type": "code",
   "execution_count": 8,
   "metadata": {
    "collapsed": false
   },
   "outputs": [
    {
     "name": "stdout",
     "output_type": "stream",
     "text": [
      "a = 3  b = 4  c = 5.0\n",
      "a = 1  b = 1  c = 1.4142135623730951\n",
      "a = 5  b = 12  c = 13.0\n"
     ]
    }
   ],
   "source": [
    "# długość przeciwprostokątnej\n",
    "from math import sqrt\n",
    "\n",
    "def hypotenuse( a, b):\n",
    "    a2 = a**2\n",
    "    b2 = b**2\n",
    "    c= sqrt(a2+b2)\n",
    "    return c\n",
    "\n",
    "def hyp_print(a,b):\n",
    "    c = hypotenuse (a,b)\n",
    "    print('a =', a, ' b =', b, ' c =', c)\n",
    "\n",
    "\n",
    "sides = ( (3, 4), (1, 1), (5,12))\n",
    "for (a,b) in sides:\n",
    "    hyp_print(a,b)"
   ]
  },
  {
   "cell_type": "markdown",
   "metadata": {},
   "source": [
    "## Operacje wejścia wyjścia\n",
    "* * *\n"
   ]
  },
  {
   "cell_type": "code",
   "execution_count": 10,
   "metadata": {
    "collapsed": false
   },
   "outputs": [
    {
     "name": "stdout",
     "output_type": "stream",
     "text": [
      "to jest\n",
      "\n",
      "plik testowy\n",
      "\n",
      "czytany\n",
      "\n",
      "linia \n",
      "\n",
      "po linii\n",
      "\n",
      "1\n",
      "\n",
      "2\n",
      "\n",
      "3\n",
      "\n",
      "10\n",
      " \n",
      "\n",
      "\n",
      "\\ Pliky wyjściowy \n",
      "\n",
      "\n",
      "\n",
      "my test data\n",
      "\n",
      "a\n",
      "\n",
      "b \n",
      "\n",
      "1\n",
      "\n",
      "2\n",
      "\n"
     ]
    }
   ],
   "source": [
    "with open(\"test.txt\", \"r\") as f:  # odczytywanie linia po linii\n",
    "    for l in f:\n",
    "        print(l)\n",
    "        \n",
    "# lub f = open(...), ale jak skończymy używać plik należy go zamknąć f.close()\n",
    "print(\" \\n\\n\\n\\ Pliky wyjściowy \\n\\n\\n\")\n",
    "data = ['my test data', 'a' , 'b ', '1', '2']\n",
    "with open('out.txt', 'w') as f:\n",
    "    for d in data:\n",
    "        f.write(d + '\\n')\n",
    "\n",
    "with open('out.txt', 'r') as f:\n",
    "    for l in f:\n",
    "        print(l)"
   ]
  },
  {
   "cell_type": "markdown",
   "metadata": {},
   "source": [
    "### Operacje we/wy -  pytania i ćwiczenia\n",
    "\n",
    "- Co się stanie jeśli zapomnimy zamknąć pliku?\n",
    "- Co się dzieje z plikiem out.txt za każdym razem, gdy uruchamiamy program?\n",
    "- Stwórz program, który wygeneruje zestaw 10 losowych liczb i zapisze te dane do pliku.\n",
    "- Wczytaj z pliku liczby, a następnie zapisz do pliku w postaci posortowanej\n",
    "- Wygeneruj pary liczb, zapisz i wczytaj z pliku, wykorzystaj f-cję liczącą długość przeciwprostokątnej i następnie zapisz trójki liczb z powrotem do pliku\n"
   ]
  },
  {
   "cell_type": "markdown",
   "metadata": {},
   "source": [
    "## Ćwiczenia\n",
    "* * *\n",
    "## Najwiekszy wspólny dzielnik\n",
    "\n",
    "Dane sa dwie calkowite liczby A, B >= 0.\n",
    "Nalezy znalezc ich najwiekszy wspólny dzielnik - czyli najwieksza mozliwa liczbe C, która dzieli A i B\n",
    "\n",
    "### Podstawowy algorytm znajdowania NWD\n",
    "\n",
    "1. Wybieramy wieksza z liczb (A i B) (zalózmy dalej, ze A > B)\n",
    "2. Sprawdzamy czy mniejsza z liczb jest równa zero, \n",
    "\t- jesli tak, zwracamy wiekszą liczbę, jest ona NWD dla A i B\n",
    "        - kończymy algorytm\n",
    "3. Szukamy NWD dla pary liczby (B, B-A) - czyli powrót do punktu 1\n",
    "\n",
    "### Algorytm euklidesa znajdowania NWD\n",
    "\n",
    "1. Wybieramy wieksza z liczb (A i B) (zalózmy dalej, ze A > B)\n",
    "2. Sprawdzamy czy mniejsza z liczb jest równa zero, \n",
    "\t- jesli tak, zwracamy wiekszą liczbę, jest ona NWD dla A i B\n",
    "        - kończymy algorytm\n",
    "3. Szukamy NWD dla pary liczby (B, A modulo B) - czyli powrót do punktu 1\n",
    "\n",
    "\n",
    "### Ćwiczenie - zaimplementuj algorym NWD\n",
    "\n",
    "Jak można zaimplementować algorytm iteracyjnie, a jak rekurencyjnie?\n",
    "\n",
    "### Pytania\n",
    "\n",
    "Co się stanie jeęli liczby są ujemne? Co można z tym zrobić?\n",
    "Co się stanie jeśli liczby nie są calkowite? Co można z tym zrobić?\n",
    "Co jest istotne w algorytmach rekurencyjnych? Czy jest to istotne w algorytmach iteracyjnych?\n",
    "\n",
    "Od czego i w jaki sposób zależy czas dzialania algorytmów NWD? \n",
    "Który algorytm jest szybszy? \n",
    "\n",
    "Jak zweryfikowac czy implementacja jest poprawna?\n",
    "\n",
    "\n",
    "### Zadania dodatkowe\n",
    "\n",
    "Zaimplementuj algorytm w wersji iteracyjnej i rekurencyjnej\n",
    "Zaimplementuj funkcję, która wczyta z pliku serie par liczb i dla każdej pary znajdzie najwiekszy wspólny dzielnik a nastepnie wszystkie trzy liczby wpisze do pliku wynikowego\n",
    "Zaimplementuj testy na poprawnosc jednej z implementacji. \n",
    "\n",
    "\n",
    "* * *\n"
   ]
  },
  {
   "cell_type": "markdown",
   "metadata": {},
   "source": [
    "## Liczby pierwsze - zadania\n",
    "\n",
    "- ### Test czy dana liczba N jest pierwsza\n",
    "- ### Sito Eratostanesa - wypisz wszystkie liczby pierwsze mniejsze od zadanej liczby N\n",
    "\n",
    "#### Pytania\n",
    "\n",
    "Co możesz powiedzieć o złożoności obliczeniowej tych algorytmów?"
   ]
  },
  {
   "cell_type": "markdown",
   "metadata": {},
   "source": [
    "## Odnośniki\n",
    "\n",
    "https://www.python.org/\n",
    "\n",
    "https://python-reference.readthedocs.io/en/latest/index.html\n",
    "\n",
    "https://thomas-cokelaer.info/tutorials/python/lists.html\n",
    "\n",
    "https://python101.readthedocs.io/pl/latest/index.html\n",
    "\n"
   ]
  }
 ],
 "metadata": {
  "kernelspec": {
   "display_name": "Python 3",
   "language": "python",
   "name": "python3"
  },
  "language_info": {
   "codemirror_mode": {
    "name": "ipython",
    "version": 3
   },
   "file_extension": ".py",
   "mimetype": "text/x-python",
   "name": "python",
   "nbconvert_exporter": "python",
   "pygments_lexer": "ipython3",
   "version": "3.5.1"
  }
 },
 "nbformat": 4,
 "nbformat_minor": 0
}
