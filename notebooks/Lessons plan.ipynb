{
 "cells": [
  {
   "cell_type": "markdown",
   "metadata": {},
   "source": [
    "\n",
    "# Lekcja 1. Środowisko\n",
    "## Instalaja i konfiguracja środowiska\n",
    "- github account\n",
    "- git instalation\n",
    "- Python installation\n",
    "\t\n",
    "## Podstawowe operacje na gicie\n",
    "- utworzenie repozytorium\n",
    "- dodanie nowych plików\n",
    "- zmianaa plików\n",
    "- zdalne repozytorium - pobranie zmian, wysyłanie zmian\n",
    "- branche\n",
    "\n",
    "# Lekcja 2. Podstawy pythona\n",
    "- Struktury danych - listy\n",
    "- Instrukcje warunkowe, pętle\n",
    "- Wejście / wyjście python\t \n",
    "\n",
    "# Lekcja 3. Algorytmy Teorio liczbowe:\n",
    "- największy wspólny dzielnike\n",
    "- sprawdzenie liczb pierwszych \n",
    "\t\t\n",
    "# Lekcja 4. Algorytmy dziel i zwyciężaj\n",
    "- sortowanie\n",
    "\n",
    "# Lekcja 5. Programowanie dynamiczne\n",
    "\n",
    "- \"cięcie pręta\"\n",
    "- Problem plecakowy\n",
    "# Lekcja 6. Algorytmy zachłanne\n",
    "\n",
    "# Lekcja 7. Grafy"
   ]
  },
  {
   "cell_type": "code",
   "execution_count": null,
   "metadata": {
    "collapsed": true
   },
   "outputs": [],
   "source": []
  }
 ],
 "metadata": {
  "kernelspec": {
   "display_name": "Python 3",
   "language": "python",
   "name": "python3"
  },
  "language_info": {
   "codemirror_mode": {
    "name": "ipython",
    "version": 3
   },
   "file_extension": ".py",
   "mimetype": "text/x-python",
   "name": "python",
   "nbconvert_exporter": "python",
   "pygments_lexer": "ipython3",
   "version": "3.5.1"
  }
 },
 "nbformat": 4,
 "nbformat_minor": 0
}
