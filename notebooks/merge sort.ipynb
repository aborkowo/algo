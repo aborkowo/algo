{
 "cells": [
  {
   "cell_type": "markdown",
   "metadata": {},
   "source": [
    "# Sortowanie przez scalanie (merge sort)\n",
    "\n",
    "Używa techniki dziel i zwyciężaj.\n",
    "\n",
    "## Algorytm\n",
    "- podziel tablicę na dwie połowy\n",
    "- posortuj połowy (rekurencja)\n",
    "- scal posortowane połowy (w ten sposób aby całość była posortowana)\n",
    "- bazowy przypadek: \n",
    "    - pojedyncza liczba (lub pusta tablica) już jest posortowany\n",
    "    - opcjonalnie więcej liczb sortowanych inną znaną metodą (np. sortowanie przez scalanie)\n",
    "    \n",
    "Przykład z wizualizacja:\n",
    "https://www.geeksforgeeks.org/sorting-algorithm-visualization-merge-sort/?ref=leftbar-rightbar\n",
    "\n",
    "Więcej szczegółów:\n",
    "https://en.wikipedia.org/wiki/Merge_sort\n",
    "\n",
    "\n",
    "\n",
    "## Pamięć\n",
    "\n",
    "\n",
    "Krok scalania wymaga kopiowania danych do nowego bufora pamięci. \n",
    "Stąd zapotrzebowanie na pamięć jest wprost proporcjonalne do wielkości danych wejściowych:\n",
    "\n",
    "$O(N)$\n",
    "\n",
    "\n",
    "#### Jakie zapotrzebowanie na pamięć mają algorytmy: sortowanie przez wstawianie (insertion sort) lub sortowanie szybkie (quicksort)?\n",
    "\n",
    "## Wydajność\n",
    "\n",
    "Zakładając K liczb wchodzących do funkcji sortującej, każde wywołanie rekurencyjne generuje:\n",
    "- dwa nowe zadania sortowania na połowie danych $(^K/_2)$\n",
    "- operacja scalania - proporcjonalna do ilości danych wejściowych $(K)$\n",
    "\n",
    "Ilość zagłębień rekurencji dla N liczb:\n",
    "\n",
    "$log_{2}(N)$\n",
    "\n",
    "(każde wywołanie rekurencyjne dostaje dwa razy mniej danych)\n",
    "\n",
    "\n",
    "Podsumowując:\n",
    "- i-ty poziom rekurencji wymaga $O(N)$ operacji\n",
    "    - $2^i$ operacji scalenia, \n",
    "    - każde scalenie wymaga $^N/_{2^i}$ porównań i kopiowań\n",
    "- jest $log_{2}(N)$ poziomów\n",
    "\n",
    "### Złożoność obliczeniowa algorytmu sortowania przez scalanie: \n",
    "\n",
    "### $O(Nlog_{2}(N))$\n",
    "\n",
    "\n",
    "Dla małej ilości danych inne algorytmy sortowania mogą być szybsze. \n",
    "Można łączyć sortowanie przez scalanie z innymi rodzajami sortowania dla uzyskania bardziej efektywnego algorytmu."
   ]
  },
  {
   "cell_type": "code",
   "execution_count": 1,
   "metadata": {
    "collapsed": true
   },
   "outputs": [],
   "source": [
    "def merge_sort(numbers):\n",
    "    # tymczasowa lista o rozmiarze N\n",
    "    tmp = [0] * len(numbers)\n",
    "    merge_sort_r(numbers, tmp, 0, len(numbers))\n",
    "    return\n",
    "\n",
    "def merge_sort_r(numbers, tmp, start, end):\n",
    "    # krok 1 - przypadek \"bazowy\" \n",
    "    if (start >= end-1):\n",
    "        return\n",
    "\n",
    "    # krok 2 - podział na mniejsze podproblemy i rekurencja\n",
    "    mid = (start + end) // 2\n",
    "    #print (\"start: \", start, \"end: \", end, \"mid: \", mid)\n",
    "    \n",
    "    merge_sort_r(numbers, tmp, start, mid)\n",
    "    merge_sort_r(numbers, tmp, mid, end)\n",
    "    \n",
    "    # krok 3 - scalenie wyników\n",
    "    merge(numbers, tmp, start, mid, end)\n",
    "\n",
    "    return\n",
    "\n",
    "def merge(numbers, tmp, start, mid, end):\n",
    "    tmp[start:end] = numbers[start:end]\n",
    "\n",
    "    l = start # lewa połówka\n",
    "    r = mid   # prawa połówka\n",
    "\n",
    "    for i in range(start, end):\n",
    "        #print (\"l:\",l, \"r:\",r)\n",
    "        if (tmp[l] > tmp[r]):\n",
    "            numbers[i] = tmp[l]\n",
    "            l += 1\n",
    "            if (l == mid) :\n",
    "                break\n",
    "        else:\n",
    "            numbers[i] = tmp[r]\n",
    "            r += 1\n",
    "            if (r == end) :\n",
    "                break\n",
    "\n",
    "    # kopiowanie pozostałych elementów\n",
    "    if l < mid:\n",
    "        numbers[i+1: end] = tmp[l:mid]\n",
    "    elif r<end:\n",
    "        numbers[i+1: end] = tmp[r:end]\n",
    "    \n",
    "    return\n",
    "\n",
    "\n"
   ]
  },
  {
   "cell_type": "code",
   "execution_count": 2,
   "metadata": {
    "collapsed": false
   },
   "outputs": [
    {
     "name": "stdout",
     "output_type": "stream",
     "text": [
      "[1000, 100, 20, 10, 8, 7, 6, 5, 4, 3, 2, 1]\n"
     ]
    }
   ],
   "source": [
    "x = [ 1,2,3,4,5, 6, 7, 8, 100, 20, 10, 1000]\n",
    "merge_sort(x)\n",
    "print(x)\n",
    "\n"
   ]
  }
 ],
 "metadata": {
  "kernelspec": {
   "display_name": "Python 3",
   "language": "python",
   "name": "python3"
  },
  "language_info": {
   "codemirror_mode": {
    "name": "ipython",
    "version": 3
   },
   "file_extension": ".py",
   "mimetype": "text/x-python",
   "name": "python",
   "nbconvert_exporter": "python",
   "pygments_lexer": "ipython3",
   "version": "3.5.1"
  }
 },
 "nbformat": 4,
 "nbformat_minor": 0
}
