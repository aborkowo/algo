{
 "cells": [
  {
   "cell_type": "markdown",
   "metadata": {},
   "source": [
    "# Sortowanie przez wstawianie (insertion sort)\n",
    "\n",
    "## Algorytm\n",
    "- Postępowanie podobne jak przy układaniu kart do gry\n",
    "- Bierzemy po kolei elementy z tablicy (lub listy) i wstawiamy w odpowiednie miejsce do dotychczasowo posortowanej puli\n"
   ]
  },
  {
   "cell_type": "code",
   "execution_count": 22,
   "metadata": {
    "collapsed": true
   },
   "outputs": [],
   "source": [
    "def in_sort(numbers):\n",
    "    for (i, num) in enumerate(numbers):\n",
    "        j = i - 1\n",
    "        tmp = num\n",
    "        while j >= 0:\n",
    "            if tmp < numbers[j]:\n",
    "                numbers[j+1] = numbers[j]\n",
    "            else:\n",
    "                break\n",
    "            j -= 1\n",
    "        numbers[j+1] = tmp\n",
    "\n",
    "        "
   ]
  },
  {
   "cell_type": "code",
   "execution_count": 25,
   "metadata": {
    "collapsed": false
   },
   "outputs": [
    {
     "name": "stdout",
     "output_type": "stream",
     "text": [
      "[1, 2, 3, 4]\n",
      "[1, 2, 3, 4]\n",
      "[1, 10, 20, 100]\n"
     ]
    }
   ],
   "source": [
    "# test the sorting algorithm\n",
    "tst1 = [1,2,3,4]\n",
    "tst2 = [4,3,2,1]\n",
    "tst3 = [10, 100, 20, 1]\n",
    "\n",
    "def test_sort(numbers):\n",
    "    in_sort(numbers)\n",
    "    print(numbers)\n",
    "\n",
    "test_sort(tst1)\n",
    "test_sort(tst2)\n",
    "test_sort(tst3)\n",
    "\n",
    "    "
   ]
  },
  {
   "cell_type": "code",
   "execution_count": null,
   "metadata": {
    "collapsed": true
   },
   "outputs": [],
   "source": [
    "# read in 1M numbers and sort them \n",
    "# how long will it take?\n"
   ]
  }
 ],
 "metadata": {
  "kernelspec": {
   "display_name": "Python 3",
   "language": "python",
   "name": "python3"
  },
  "language_info": {
   "codemirror_mode": {
    "name": "ipython",
    "version": 3
   },
   "file_extension": ".py",
   "mimetype": "text/x-python",
   "name": "python",
   "nbconvert_exporter": "python",
   "pygments_lexer": "ipython3",
   "version": "3.5.1"
  }
 },
 "nbformat": 4,
 "nbformat_minor": 0
}
