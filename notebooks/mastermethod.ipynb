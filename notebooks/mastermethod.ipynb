{
 "cells": [
  {
   "cell_type": "markdown",
   "metadata": {},
   "source": [
    "# Dziel i zwyciężaj\n",
    "(divide and conquer)\n",
    "\n",
    "## Algorytm\n",
    "1. Podziel problem na mniejsze podproblemy (dwa lub więcej)\n",
    "2. Rozwiąż podproblemy (rekurencja)\n",
    "3. Wyznacz rozwiązanie dla problemów nie dających się podzielić na mniejsze (przypadek bazowy)\n",
    "4. Scal rozwiązania podproblemów żeby uzyskać rozwiązanie całego problemu \n",
    "\n",
    "\n"
   ]
  },
  {
   "cell_type": "markdown",
   "metadata": {},
   "source": [
    "## Przykłady zastosowań\n",
    "\n",
    "- sortowanie:\n",
    "    - przez scalanie (merge sort)\n",
    "    - szybkie (quick sort) \n"
   ]
  },
  {
   "cell_type": "markdown",
   "metadata": {},
   "source": [
    "## Odnośniki\n",
    "\n",
    "https://pl.wikipedia.org/wiki/Dziel_i_zwyci%C4%99%C5%BCaj"
   ]
  }
 ],
 "metadata": {
  "kernelspec": {
   "display_name": "Python 3",
   "language": "python",
   "name": "python3"
  },
  "language_info": {
   "codemirror_mode": {
    "name": "ipython",
    "version": 3
   },
   "file_extension": ".py",
   "mimetype": "text/x-python",
   "name": "python",
   "nbconvert_exporter": "python",
   "pygments_lexer": "ipython3",
   "version": "3.5.1"
  }
 },
 "nbformat": 4,
 "nbformat_minor": 4
}
