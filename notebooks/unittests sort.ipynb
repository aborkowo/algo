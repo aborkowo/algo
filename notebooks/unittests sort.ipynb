{
 "cells": [
  {
   "cell_type": "markdown",
   "metadata": {},
   "source": [
    "# Testy jednostkowe\n"
   ]
  },
  {
   "cell_type": "code",
   "execution_count": 2,
   "metadata": {
    "collapsed": true
   },
   "outputs": [],
   "source": [
    "import unittest"
   ]
  },
  {
   "cell_type": "code",
   "execution_count": 3,
   "metadata": {
    "collapsed": true
   },
   "outputs": [],
   "source": [
    "def sort(numbers):\n",
    "    numbers.sort()"
   ]
  },
  {
   "cell_type": "code",
   "execution_count": 6,
   "metadata": {
    "collapsed": false
   },
   "outputs": [
    {
     "name": "stderr",
     "output_type": "stream",
     "text": [
      "..."
     ]
    },
    {
     "name": "stdout",
     "output_type": "stream",
     "text": [
      "setUpClass\n",
      "\t Initializing tests\n",
      "\t Sorting tests completed. Thank you.\n",
      "\t Initializing tests\n",
      "\t Sorting tests completed. Thank you.\n",
      "\t Initializing tests\n",
      "\t Sorting tests completed. Thank you.\n",
      "tearDownClass\n"
     ]
    },
    {
     "name": "stderr",
     "output_type": "stream",
     "text": [
      "\n",
      "----------------------------------------------------------------------\n",
      "Ran 3 tests in 0.025s\n",
      "\n",
      "OK\n"
     ]
    }
   ],
   "source": [
    "\n",
    "class test_sort(unittest.TestCase):\n",
    "    small = [1,2,3,4,100,80,90,5,10,1,-100,20]\n",
    "    small_ref = []\n",
    "    incr = [1,2,3,4,5,6,7,8]\n",
    "    incr_ref = []\n",
    "    decr= [19,8,7,6,5,4,3,2,1]\n",
    "    decr_ref =[]\n",
    "\n",
    "    @classmethod\n",
    "    def setUpClass(cls):\n",
    "        print(\"setUpClass\")\n",
    "        cls.small_ref = cls.small[:]\n",
    "        cls.small_ref.sort()\n",
    "        cls.incr_ref = cls.incr[:]\n",
    "        cls.incr_ref.sort()\n",
    "        cls.decr_ref = cls.decr[:]\n",
    "        cls.decr_ref.sort()\n",
    "        \n",
    "    @classmethod\n",
    "    def tearDownClass(cls):\n",
    "        print(\"tearDownClass\")\n",
    "        \n",
    "    def setUp(self):\n",
    "        print(\"\\t Initializing tests\")\n",
    "\n",
    "    def tearDown(self):\n",
    "        print(\"\\t Sorting tests completed. Thank you.\")\n",
    "\n",
    "    def test_small(self):\n",
    "        sort(self.small)\n",
    "        self.assertEqual(self.small, self.small_ref)\n",
    "    \n",
    "    def test_incr(self):\n",
    "        sort(self.incr)\n",
    "        self.assertEqual(self.incr, self.incr_ref)\n",
    "    \n",
    "    def test_decr(self):\n",
    "        sort(self.decr)\n",
    "        self.assertEqual(self.decr, self.decr_ref)\n",
    "        \n",
    "if __name__ == '__main__':\n",
    "    unittest.main(argv=['first-arg-is-ignored'], exit=False)\n",
    "        "
   ]
  },
  {
   "cell_type": "code",
   "execution_count": null,
   "metadata": {
    "collapsed": true
   },
   "outputs": [],
   "source": []
  }
 ],
 "metadata": {
  "kernelspec": {
   "display_name": "Python 3",
   "language": "python",
   "name": "python3"
  },
  "language_info": {
   "codemirror_mode": {
    "name": "ipython",
    "version": 3
   },
   "file_extension": ".py",
   "mimetype": "text/x-python",
   "name": "python",
   "nbconvert_exporter": "python",
   "pygments_lexer": "ipython3",
   "version": "3.5.1"
  }
 },
 "nbformat": 4,
 "nbformat_minor": 4
}
